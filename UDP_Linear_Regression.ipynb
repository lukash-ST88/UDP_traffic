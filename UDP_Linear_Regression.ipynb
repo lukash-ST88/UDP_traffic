{
 "cells": [
  {
   "cell_type": "markdown",
   "id": "919eac19-eb24-48bf-b037-b0440b790f54",
   "metadata": {},
   "source": [
    "<h2><strong>UDP traffic</strong></h2>\n",
    "<h3>Prediction by Linear Regression for UDP Throughput</h3>\n",
    "<p> The aim of the test is to predict UDP Throughput of Network device №3, having the data of Network device №1 and №2</p>\n",
    "\n"
   ]
  },
  {
   "cell_type": "markdown",
   "id": "011234ca-8792-4c88-bbb4-650837ca3ec8",
   "metadata": {},
   "source": [
    "At the beginning let's upload some classes and create a database."
   ]
  },
  {
   "cell_type": "code",
   "execution_count": 4,
   "id": "df92cf35-f8aa-456c-a533-75b61a02fb10",
   "metadata": {},
   "outputs": [
    {
     "data": {
      "text/html": [
       "<div>\n",
       "<style scoped>\n",
       "    .dataframe tbody tr th:only-of-type {\n",
       "        vertical-align: middle;\n",
       "    }\n",
       "\n",
       "    .dataframe tbody tr th {\n",
       "        vertical-align: top;\n",
       "    }\n",
       "\n",
       "    .dataframe thead th {\n",
       "        text-align: right;\n",
       "    }\n",
       "</style>\n",
       "<table border=\"1\" class=\"dataframe\">\n",
       "  <thead>\n",
       "    <tr style=\"text-align: right;\">\n",
       "      <th></th>\n",
       "      <th>Device</th>\n",
       "      <th>Clock frequency</th>\n",
       "      <th>UDP Throughput</th>\n",
       "      <th>Utilization of CPU</th>\n",
       "      <th>Temperature of CPU</th>\n",
       "    </tr>\n",
       "  </thead>\n",
       "  <tbody>\n",
       "    <tr>\n",
       "      <th>0</th>\n",
       "      <td>1</td>\n",
       "      <td>1500</td>\n",
       "      <td>600</td>\n",
       "      <td>50</td>\n",
       "      <td>38</td>\n",
       "    </tr>\n",
       "    <tr>\n",
       "      <th>1</th>\n",
       "      <td>1</td>\n",
       "      <td>1500</td>\n",
       "      <td>650</td>\n",
       "      <td>55</td>\n",
       "      <td>45</td>\n",
       "    </tr>\n",
       "    <tr>\n",
       "      <th>2</th>\n",
       "      <td>1</td>\n",
       "      <td>1500</td>\n",
       "      <td>700</td>\n",
       "      <td>60</td>\n",
       "      <td>52</td>\n",
       "    </tr>\n",
       "    <tr>\n",
       "      <th>3</th>\n",
       "      <td>1</td>\n",
       "      <td>1500</td>\n",
       "      <td>750</td>\n",
       "      <td>65</td>\n",
       "      <td>60</td>\n",
       "    </tr>\n",
       "    <tr>\n",
       "      <th>4</th>\n",
       "      <td>1</td>\n",
       "      <td>1500</td>\n",
       "      <td>900</td>\n",
       "      <td>70</td>\n",
       "      <td>67</td>\n",
       "    </tr>\n",
       "    <tr>\n",
       "      <th>5</th>\n",
       "      <td>2</td>\n",
       "      <td>2600</td>\n",
       "      <td>750</td>\n",
       "      <td>35</td>\n",
       "      <td>30</td>\n",
       "    </tr>\n",
       "    <tr>\n",
       "      <th>6</th>\n",
       "      <td>2</td>\n",
       "      <td>2600</td>\n",
       "      <td>800</td>\n",
       "      <td>40</td>\n",
       "      <td>31</td>\n",
       "    </tr>\n",
       "    <tr>\n",
       "      <th>7</th>\n",
       "      <td>2</td>\n",
       "      <td>2600</td>\n",
       "      <td>850</td>\n",
       "      <td>45</td>\n",
       "      <td>32</td>\n",
       "    </tr>\n",
       "    <tr>\n",
       "      <th>8</th>\n",
       "      <td>2</td>\n",
       "      <td>2600</td>\n",
       "      <td>900</td>\n",
       "      <td>50</td>\n",
       "      <td>33</td>\n",
       "    </tr>\n",
       "    <tr>\n",
       "      <th>9</th>\n",
       "      <td>2</td>\n",
       "      <td>2600</td>\n",
       "      <td>600</td>\n",
       "      <td>30</td>\n",
       "      <td>28</td>\n",
       "    </tr>\n",
       "  </tbody>\n",
       "</table>\n",
       "</div>"
      ],
      "text/plain": [
       "   Device  Clock frequency  UDP Throughput  Utilization of CPU  \\\n",
       "0       1             1500             600                  50   \n",
       "1       1             1500             650                  55   \n",
       "2       1             1500             700                  60   \n",
       "3       1             1500             750                  65   \n",
       "4       1             1500             900                  70   \n",
       "5       2             2600             750                  35   \n",
       "6       2             2600             800                  40   \n",
       "7       2             2600             850                  45   \n",
       "8       2             2600             900                  50   \n",
       "9       2             2600             600                  30   \n",
       "\n",
       "   Temperature of CPU  \n",
       "0                  38  \n",
       "1                  45  \n",
       "2                  52  \n",
       "3                  60  \n",
       "4                  67  \n",
       "5                  30  \n",
       "6                  31  \n",
       "7                  32  \n",
       "8                  33  \n",
       "9                  28  "
      ]
     },
     "execution_count": 4,
     "metadata": {},
     "output_type": "execute_result"
    }
   ],
   "source": [
    "import numpy as np\n",
    "import pandas as pd\n",
    "import matplotlib.pyplot as plt\n",
    "from sklearn.model_selection import train_test_split\n",
    "from sklearn.linear_model import LinearRegression\n",
    "\n",
    "# create a database\n",
    "dataUDP = pd.DataFrame([[1, 1500, 600, 50, 38], [1, 1500, 650, 55, 45], [1, 1500, 700, 60, 52], [1, 1500, 750, 65, 60], [1, 1500, 900, 70, 67], [2, 2600, 750, 35, 30], [2, 2600, 800, 40, 31], [2, 2600, 850, 45, 32], [2, 2600, 900, 50, 33], [2, 2600, 600, 30, 28]], columns=['Device', 'Clock frequency', 'UDP Throughput', 'Utilization of CPU', 'Temperature of CPU'])\n",
    "dataUDP.to_csv('dataUDP.csv', index=False)\n",
    "# upload a database\n",
    "df = pd.read_csv('dataUDP.csv')\n",
    "df.head(10)"
   ]
  },
  {
   "cell_type": "markdown",
   "id": "4991b9a4-b408-4d4c-9fad-4f7d60748fee",
   "metadata": {},
   "source": [
    "The statistical description of a database:"
   ]
  },
  {
   "cell_type": "code",
   "execution_count": 5,
   "id": "90a1e6a8-e58d-406b-8e87-cc0dbfe078cb",
   "metadata": {},
   "outputs": [
    {
     "data": {
      "text/html": [
       "<div>\n",
       "<style scoped>\n",
       "    .dataframe tbody tr th:only-of-type {\n",
       "        vertical-align: middle;\n",
       "    }\n",
       "\n",
       "    .dataframe tbody tr th {\n",
       "        vertical-align: top;\n",
       "    }\n",
       "\n",
       "    .dataframe thead th {\n",
       "        text-align: right;\n",
       "    }\n",
       "</style>\n",
       "<table border=\"1\" class=\"dataframe\">\n",
       "  <thead>\n",
       "    <tr style=\"text-align: right;\">\n",
       "      <th></th>\n",
       "      <th>Device</th>\n",
       "      <th>Clock frequency</th>\n",
       "      <th>UDP Throughput</th>\n",
       "      <th>Utilization of CPU</th>\n",
       "      <th>Temperature of CPU</th>\n",
       "    </tr>\n",
       "  </thead>\n",
       "  <tbody>\n",
       "    <tr>\n",
       "      <th>count</th>\n",
       "      <td>10.000000</td>\n",
       "      <td>10.000000</td>\n",
       "      <td>10.000000</td>\n",
       "      <td>10.000000</td>\n",
       "      <td>10.000000</td>\n",
       "    </tr>\n",
       "    <tr>\n",
       "      <th>mean</th>\n",
       "      <td>1.500000</td>\n",
       "      <td>2050.000000</td>\n",
       "      <td>750.000000</td>\n",
       "      <td>50.000000</td>\n",
       "      <td>41.600000</td>\n",
       "    </tr>\n",
       "    <tr>\n",
       "      <th>std</th>\n",
       "      <td>0.527046</td>\n",
       "      <td>579.750904</td>\n",
       "      <td>113.038833</td>\n",
       "      <td>12.909944</td>\n",
       "      <td>13.801771</td>\n",
       "    </tr>\n",
       "    <tr>\n",
       "      <th>min</th>\n",
       "      <td>1.000000</td>\n",
       "      <td>1500.000000</td>\n",
       "      <td>600.000000</td>\n",
       "      <td>30.000000</td>\n",
       "      <td>28.000000</td>\n",
       "    </tr>\n",
       "    <tr>\n",
       "      <th>25%</th>\n",
       "      <td>1.000000</td>\n",
       "      <td>1500.000000</td>\n",
       "      <td>662.500000</td>\n",
       "      <td>41.250000</td>\n",
       "      <td>31.250000</td>\n",
       "    </tr>\n",
       "    <tr>\n",
       "      <th>50%</th>\n",
       "      <td>1.500000</td>\n",
       "      <td>2050.000000</td>\n",
       "      <td>750.000000</td>\n",
       "      <td>50.000000</td>\n",
       "      <td>35.500000</td>\n",
       "    </tr>\n",
       "    <tr>\n",
       "      <th>75%</th>\n",
       "      <td>2.000000</td>\n",
       "      <td>2600.000000</td>\n",
       "      <td>837.500000</td>\n",
       "      <td>58.750000</td>\n",
       "      <td>50.250000</td>\n",
       "    </tr>\n",
       "    <tr>\n",
       "      <th>max</th>\n",
       "      <td>2.000000</td>\n",
       "      <td>2600.000000</td>\n",
       "      <td>900.000000</td>\n",
       "      <td>70.000000</td>\n",
       "      <td>67.000000</td>\n",
       "    </tr>\n",
       "  </tbody>\n",
       "</table>\n",
       "</div>"
      ],
      "text/plain": [
       "          Device  Clock frequency  UDP Throughput  Utilization of CPU  \\\n",
       "count  10.000000        10.000000       10.000000           10.000000   \n",
       "mean    1.500000      2050.000000      750.000000           50.000000   \n",
       "std     0.527046       579.750904      113.038833           12.909944   \n",
       "min     1.000000      1500.000000      600.000000           30.000000   \n",
       "25%     1.000000      1500.000000      662.500000           41.250000   \n",
       "50%     1.500000      2050.000000      750.000000           50.000000   \n",
       "75%     2.000000      2600.000000      837.500000           58.750000   \n",
       "max     2.000000      2600.000000      900.000000           70.000000   \n",
       "\n",
       "       Temperature of CPU  \n",
       "count           10.000000  \n",
       "mean            41.600000  \n",
       "std             13.801771  \n",
       "min             28.000000  \n",
       "25%             31.250000  \n",
       "50%             35.500000  \n",
       "75%             50.250000  \n",
       "max             67.000000  "
      ]
     },
     "execution_count": 5,
     "metadata": {},
     "output_type": "execute_result"
    }
   ],
   "source": [
    "df.describe()"
   ]
  },
  {
   "cell_type": "markdown",
   "id": "94616e71-dec0-4334-bf23-0db857760c61",
   "metadata": {},
   "source": [
    "<p>The next step is to create a function of Linear Regression: <i>y = a<sub>0</sub> + a<sub>1</sub>*x<sub>1</sub> + a<sub>2</sub>*x<sub>2</sub> + ... + a<sub>n</sub>*x<sub>n</sub></i>"
   ]
  },
  {
   "cell_type": "code",
   "execution_count": 6,
   "id": "58202b54-d076-48a8-b3c6-e220cd8c7407",
   "metadata": {},
   "outputs": [],
   "source": [
    "x = df[['Clock frequency', 'Utilization of CPU', 'Temperature of CPU']]\n",
    "y = df['UDP Throughput']\n",
    "regressor = LinearRegression().fit(x, y)"
   ]
  },
  {
   "cell_type": "markdown",
   "id": "2817f855-2696-40ee-bd5d-3d519e554f54",
   "metadata": {},
   "source": [
    "Now, we can compute coefficients <i>a<sub>i</sub></i>"
   ]
  },
  {
   "cell_type": "code",
   "execution_count": 7,
   "id": "20c1d60e-e319-47a0-9c24-ad963cfb77f5",
   "metadata": {},
   "outputs": [
    {
     "data": {
      "text/html": [
       "<div>\n",
       "<style scoped>\n",
       "    .dataframe tbody tr th:only-of-type {\n",
       "        vertical-align: middle;\n",
       "    }\n",
       "\n",
       "    .dataframe tbody tr th {\n",
       "        vertical-align: top;\n",
       "    }\n",
       "\n",
       "    .dataframe thead th {\n",
       "        text-align: right;\n",
       "    }\n",
       "</style>\n",
       "<table border=\"1\" class=\"dataframe\">\n",
       "  <thead>\n",
       "    <tr style=\"text-align: right;\">\n",
       "      <th></th>\n",
       "      <th>a0</th>\n",
       "    </tr>\n",
       "  </thead>\n",
       "  <tbody>\n",
       "    <tr>\n",
       "      <th>Coef. of intercept</th>\n",
       "      <td>-585.279786</td>\n",
       "    </tr>\n",
       "  </tbody>\n",
       "</table>\n",
       "</div>"
      ],
      "text/plain": [
       "                            a0\n",
       "Coef. of intercept -585.279786"
      ]
     },
     "execution_count": 7,
     "metadata": {},
     "output_type": "execute_result"
    }
   ],
   "source": [
    "coeff_df = pd.DataFrame(regressor.coef_, x.columns, columns=['ai'])\n",
    "Intercept_df = pd.DataFrame(regressor.intercept_, ['Coef. of intercept'], columns=['a0'])\n",
    "Intercept_df "
   ]
  },
  {
   "cell_type": "code",
   "execution_count": 8,
   "id": "c45a3d1c-605d-4b73-a316-6704bae3c397",
   "metadata": {},
   "outputs": [
    {
     "data": {
      "text/html": [
       "<div>\n",
       "<style scoped>\n",
       "    .dataframe tbody tr th:only-of-type {\n",
       "        vertical-align: middle;\n",
       "    }\n",
       "\n",
       "    .dataframe tbody tr th {\n",
       "        vertical-align: top;\n",
       "    }\n",
       "\n",
       "    .dataframe thead th {\n",
       "        text-align: right;\n",
       "    }\n",
       "</style>\n",
       "<table border=\"1\" class=\"dataframe\">\n",
       "  <thead>\n",
       "    <tr style=\"text-align: right;\">\n",
       "      <th></th>\n",
       "      <th>ai</th>\n",
       "    </tr>\n",
       "  </thead>\n",
       "  <tbody>\n",
       "    <tr>\n",
       "      <th>Clock frequency</th>\n",
       "      <td>0.309987</td>\n",
       "    </tr>\n",
       "    <tr>\n",
       "      <th>Utilization of CPU</th>\n",
       "      <td>13.817938</td>\n",
       "    </tr>\n",
       "    <tr>\n",
       "      <th>Temperature of CPU</th>\n",
       "      <td>0.214190</td>\n",
       "    </tr>\n",
       "  </tbody>\n",
       "</table>\n",
       "</div>"
      ],
      "text/plain": [
       "                           ai\n",
       "Clock frequency      0.309987\n",
       "Utilization of CPU  13.817938\n",
       "Temperature of CPU   0.214190"
      ]
     },
     "execution_count": 8,
     "metadata": {},
     "output_type": "execute_result"
    }
   ],
   "source": [
    "coeff_df"
   ]
  },
  {
   "cell_type": "markdown",
   "id": "37a49ef7-a7e9-4df9-9228-045838985b9d",
   "metadata": {},
   "source": [
    "As soon as coefficients have been computed it is necessary to verify our model by the determination rate R<sup>2</sup>"
   ]
  },
  {
   "cell_type": "code",
   "execution_count": 9,
   "id": "989fabd1-ff73-405b-8a94-01a347d83379",
   "metadata": {},
   "outputs": [
    {
     "name": "stdout",
     "output_type": "stream",
     "text": [
      "0.9305092835108553\n"
     ]
    }
   ],
   "source": [
    "r_2 = regressor.score(x, y)\n",
    "print(r_2)"
   ]
  },
  {
   "cell_type": "markdown",
   "id": "a647781b-54d1-4ad5-af03-44ba0641a536",
   "metadata": {},
   "source": [
    "<p>Since <i>R<sup>2</sup> = 93%</i> => it is possible to consider this model quite accurate to predict UDP Throughput.</p>\n",
    "<p>Substitute independent values x and coefficients a:</p>"
   ]
  },
  {
   "cell_type": "code",
   "execution_count": 15,
   "id": "2125298e-066e-4065-acb9-e356526a8384",
   "metadata": {},
   "outputs": [
    {
     "name": "stdout",
     "output_type": "stream",
     "text": [
      "Predicted UDP Throughput: 598.9772423025435\n"
     ]
    }
   ],
   "source": [
    "\n",
    "Task_1 = {'Clock frequency': 2000, 'Utilization of CPU': 40, 'Temperature of CPU': 54}\n",
    "y_pred_TP = regressor.intercept_ + Task_1['Clock frequency']*regressor.coef_[0] + Task_1['Utilization of CPU']*regressor.coef_[1] + Task_1['Temperature of CPU']*regressor.coef_[2]\n",
    "print('Predicted UDP Throughput:', y_pred_TP)"
   ]
  },
  {
   "cell_type": "markdown",
   "id": "263a3945-25b4-47f5-b12c-2d5414f35f64",
   "metadata": {},
   "source": [
    "To be sure in our results let's make one more verification by predicting all measured Throughputs:"
   ]
  },
  {
   "cell_type": "code",
   "execution_count": 12,
   "id": "3af2fba1-62cb-4eee-8593-f75126294b4d",
   "metadata": {},
   "outputs": [],
   "source": [
    "y_pred = regressor.predict(x)"
   ]
  },
  {
   "cell_type": "code",
   "execution_count": 13,
   "id": "e04b8060-efc8-4b24-8256-1a4786d09f5d",
   "metadata": {},
   "outputs": [
    {
     "data": {
      "text/html": [
       "<div>\n",
       "<style scoped>\n",
       "    .dataframe tbody tr th:only-of-type {\n",
       "        vertical-align: middle;\n",
       "    }\n",
       "\n",
       "    .dataframe tbody tr th {\n",
       "        vertical-align: top;\n",
       "    }\n",
       "\n",
       "    .dataframe thead th {\n",
       "        text-align: right;\n",
       "    }\n",
       "</style>\n",
       "<table border=\"1\" class=\"dataframe\">\n",
       "  <thead>\n",
       "    <tr style=\"text-align: right;\">\n",
       "      <th></th>\n",
       "      <th>Predicted Throughput, Mbit/s</th>\n",
       "      <th>Measured Throughput, Mbit/s</th>\n",
       "      <th>Deviation, %</th>\n",
       "    </tr>\n",
       "  </thead>\n",
       "  <tbody>\n",
       "    <tr>\n",
       "      <th>0</th>\n",
       "      <td>578.736278</td>\n",
       "      <td>600</td>\n",
       "      <td>3.543954</td>\n",
       "    </tr>\n",
       "    <tr>\n",
       "      <th>1</th>\n",
       "      <td>649.325301</td>\n",
       "      <td>650</td>\n",
       "      <td>0.103800</td>\n",
       "    </tr>\n",
       "    <tr>\n",
       "      <th>2</th>\n",
       "      <td>719.914324</td>\n",
       "      <td>700</td>\n",
       "      <td>2.844903</td>\n",
       "    </tr>\n",
       "    <tr>\n",
       "      <th>3</th>\n",
       "      <td>790.717537</td>\n",
       "      <td>750</td>\n",
       "      <td>5.429005</td>\n",
       "    </tr>\n",
       "    <tr>\n",
       "      <th>4</th>\n",
       "      <td>861.306560</td>\n",
       "      <td>900</td>\n",
       "      <td>4.299271</td>\n",
       "    </tr>\n",
       "    <tr>\n",
       "      <th>5</th>\n",
       "      <td>710.738956</td>\n",
       "      <td>750</td>\n",
       "      <td>5.234806</td>\n",
       "    </tr>\n",
       "    <tr>\n",
       "      <th>6</th>\n",
       "      <td>780.042838</td>\n",
       "      <td>800</td>\n",
       "      <td>2.494645</td>\n",
       "    </tr>\n",
       "    <tr>\n",
       "      <th>7</th>\n",
       "      <td>849.346720</td>\n",
       "      <td>850</td>\n",
       "      <td>0.076856</td>\n",
       "    </tr>\n",
       "    <tr>\n",
       "      <th>8</th>\n",
       "      <td>918.650602</td>\n",
       "      <td>900</td>\n",
       "      <td>2.072289</td>\n",
       "    </tr>\n",
       "    <tr>\n",
       "      <th>9</th>\n",
       "      <td>641.220884</td>\n",
       "      <td>600</td>\n",
       "      <td>6.870147</td>\n",
       "    </tr>\n",
       "  </tbody>\n",
       "</table>\n",
       "</div>"
      ],
      "text/plain": [
       "   Predicted Throughput, Mbit/s  Measured Throughput, Mbit/s  Deviation, %\n",
       "0                    578.736278                          600      3.543954\n",
       "1                    649.325301                          650      0.103800\n",
       "2                    719.914324                          700      2.844903\n",
       "3                    790.717537                          750      5.429005\n",
       "4                    861.306560                          900      4.299271\n",
       "5                    710.738956                          750      5.234806\n",
       "6                    780.042838                          800      2.494645\n",
       "7                    849.346720                          850      0.076856\n",
       "8                    918.650602                          900      2.072289\n",
       "9                    641.220884                          600      6.870147"
      ]
     },
     "execution_count": 13,
     "metadata": {},
     "output_type": "execute_result"
    }
   ],
   "source": [
    "    Throughput_comparison = pd.DataFrame({'Predicted Throughput, Mbit/s' : y_pred, 'Measured Throughput, Mbit/s' : y, 'Deviation, %' : abs(((y_pred-y)/y) * 100)})\n",
    "    Throughput_comparison"
   ]
  },
  {
   "cell_type": "code",
   "execution_count": 14,
   "id": "4f05d8d8-8986-4b77-b815-b225b2634b4b",
   "metadata": {},
   "outputs": [
    {
     "name": "stdout",
     "output_type": "stream",
     "text": [
      "Mean deviation of predicted values from measured ones is 3.3%\n"
     ]
    }
   ],
   "source": [
    "mean_deviation = np.round(np.mean(Throughput_comparison['Deviation, %']), 2)\n",
    "print(f'Mean deviation of predicted values from measured ones is {mean_deviation}%')"
   ]
  },
  {
   "cell_type": "markdown",
   "id": "b4f2eba3-21fc-43d5-b0ac-a0e9d0dcf18a",
   "metadata": {},
   "source": [
    "<p><strong>Conclusion:</strong> Thus, taking into account Mean deviation value and R<sup>2</sup> value,  the predicted UDP Throughput should be equal to <i>&asymp;600 Mbit/s</i>.</p>"
   ]
  }
 ],
 "metadata": {
  "kernelspec": {
   "display_name": "Python 3 (ipykernel)",
   "language": "python",
   "name": "python3"
  },
  "language_info": {
   "codemirror_mode": {
    "name": "ipython",
    "version": 3
   },
   "file_extension": ".py",
   "mimetype": "text/x-python",
   "name": "python",
   "nbconvert_exporter": "python",
   "pygments_lexer": "ipython3",
   "version": "3.9.13"
  }
 },
 "nbformat": 4,
 "nbformat_minor": 5
}

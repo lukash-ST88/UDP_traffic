{
 "cells": [
  {
   "cell_type": "markdown",
   "id": "ccfafd31-c5e3-418b-b1bd-bf085c8842fc",
   "metadata": {},
   "source": [
    "<h2><strong>UDP traffic</strong></h2>\n",
    "<h3>Prediction by Multiple Linear Regression for Temperature and Utilization of CPU</h3>\n",
    "<p> The aim of the test is to predict Utilization and Temperature of CPU, having the data of Network devices №1-3</p>"
   ]
  },
  {
   "cell_type": "markdown",
   "id": "1ea1d2d6-0b9b-43fa-9477-51fa3167df3a",
   "metadata": {},
   "source": [
    "At the beginning let's upload some classes and create a database."
   ]
  },
  {
   "cell_type": "code",
   "execution_count": 1,
   "id": "cc61298d-9cd2-4561-8f01-30d4f4d0cfd1",
   "metadata": {},
   "outputs": [
    {
     "data": {
      "text/html": [
       "<div>\n",
       "<style scoped>\n",
       "    .dataframe tbody tr th:only-of-type {\n",
       "        vertical-align: middle;\n",
       "    }\n",
       "\n",
       "    .dataframe tbody tr th {\n",
       "        vertical-align: top;\n",
       "    }\n",
       "\n",
       "    .dataframe thead th {\n",
       "        text-align: right;\n",
       "    }\n",
       "</style>\n",
       "<table border=\"1\" class=\"dataframe\">\n",
       "  <thead>\n",
       "    <tr style=\"text-align: right;\">\n",
       "      <th></th>\n",
       "      <th>Device</th>\n",
       "      <th>Clock frequency</th>\n",
       "      <th>UDP Throughput</th>\n",
       "      <th>Utilization of CPU</th>\n",
       "      <th>Temperature of CPU</th>\n",
       "    </tr>\n",
       "  </thead>\n",
       "  <tbody>\n",
       "    <tr>\n",
       "      <th>0</th>\n",
       "      <td>1</td>\n",
       "      <td>1500</td>\n",
       "      <td>600</td>\n",
       "      <td>50</td>\n",
       "      <td>38</td>\n",
       "    </tr>\n",
       "    <tr>\n",
       "      <th>1</th>\n",
       "      <td>1</td>\n",
       "      <td>1500</td>\n",
       "      <td>650</td>\n",
       "      <td>55</td>\n",
       "      <td>45</td>\n",
       "    </tr>\n",
       "    <tr>\n",
       "      <th>2</th>\n",
       "      <td>1</td>\n",
       "      <td>1500</td>\n",
       "      <td>700</td>\n",
       "      <td>60</td>\n",
       "      <td>52</td>\n",
       "    </tr>\n",
       "    <tr>\n",
       "      <th>3</th>\n",
       "      <td>1</td>\n",
       "      <td>1500</td>\n",
       "      <td>750</td>\n",
       "      <td>65</td>\n",
       "      <td>60</td>\n",
       "    </tr>\n",
       "    <tr>\n",
       "      <th>4</th>\n",
       "      <td>1</td>\n",
       "      <td>1500</td>\n",
       "      <td>900</td>\n",
       "      <td>70</td>\n",
       "      <td>67</td>\n",
       "    </tr>\n",
       "    <tr>\n",
       "      <th>5</th>\n",
       "      <td>2</td>\n",
       "      <td>2600</td>\n",
       "      <td>750</td>\n",
       "      <td>35</td>\n",
       "      <td>30</td>\n",
       "    </tr>\n",
       "    <tr>\n",
       "      <th>6</th>\n",
       "      <td>2</td>\n",
       "      <td>2600</td>\n",
       "      <td>800</td>\n",
       "      <td>40</td>\n",
       "      <td>31</td>\n",
       "    </tr>\n",
       "    <tr>\n",
       "      <th>7</th>\n",
       "      <td>2</td>\n",
       "      <td>2600</td>\n",
       "      <td>850</td>\n",
       "      <td>45</td>\n",
       "      <td>32</td>\n",
       "    </tr>\n",
       "    <tr>\n",
       "      <th>8</th>\n",
       "      <td>2</td>\n",
       "      <td>2600</td>\n",
       "      <td>900</td>\n",
       "      <td>50</td>\n",
       "      <td>33</td>\n",
       "    </tr>\n",
       "    <tr>\n",
       "      <th>9</th>\n",
       "      <td>2</td>\n",
       "      <td>2600</td>\n",
       "      <td>600</td>\n",
       "      <td>30</td>\n",
       "      <td>28</td>\n",
       "    </tr>\n",
       "    <tr>\n",
       "      <th>10</th>\n",
       "      <td>3</td>\n",
       "      <td>2000</td>\n",
       "      <td>600</td>\n",
       "      <td>40</td>\n",
       "      <td>54</td>\n",
       "    </tr>\n",
       "  </tbody>\n",
       "</table>\n",
       "</div>"
      ],
      "text/plain": [
       "    Device  Clock frequency  UDP Throughput  Utilization of CPU  \\\n",
       "0        1             1500             600                  50   \n",
       "1        1             1500             650                  55   \n",
       "2        1             1500             700                  60   \n",
       "3        1             1500             750                  65   \n",
       "4        1             1500             900                  70   \n",
       "5        2             2600             750                  35   \n",
       "6        2             2600             800                  40   \n",
       "7        2             2600             850                  45   \n",
       "8        2             2600             900                  50   \n",
       "9        2             2600             600                  30   \n",
       "10       3             2000             600                  40   \n",
       "\n",
       "    Temperature of CPU  \n",
       "0                   38  \n",
       "1                   45  \n",
       "2                   52  \n",
       "3                   60  \n",
       "4                   67  \n",
       "5                   30  \n",
       "6                   31  \n",
       "7                   32  \n",
       "8                   33  \n",
       "9                   28  \n",
       "10                  54  "
      ]
     },
     "execution_count": 1,
     "metadata": {},
     "output_type": "execute_result"
    }
   ],
   "source": [
    "import numpy as np\n",
    "import pandas as pd\n",
    "import matplotlib.pyplot as plt\n",
    "from sklearn.model_selection import train_test_split\n",
    "from sklearn.linear_model import LinearRegression\n",
    "\n",
    "# create a database \n",
    "dataUDP2 = pd.DataFrame([[1, 1500, 600, 50, 38], [1, 1500, 650, 55, 45], [1, 1500, 700, 60, 52], [1, 1500, 750, 65, 60], [1, 1500, 900, 70, 67], [2, 2600, 750, 35, 30], [2, 2600, 800, 40, 31], [2, 2600, 850, 45, 32], [2, 2600, 900, 50, 33], [2, 2600, 600, 30, 28], [3, 2000, 600, 40, 54]], columns=['Device', 'Clock frequency', 'UDP Throughput', 'Utilization of CPU', 'Temperature of CPU'])\n",
    "dataUDP2.to_csv('dataUDP2.csv', index=False)\n",
    "# upload a database \n",
    "df2 = pd.read_csv('dataUDP2.csv')\n",
    "df2.head(11)"
   ]
  },
  {
   "cell_type": "code",
   "execution_count": 2,
   "id": "d3eecfbf-007b-4a1b-b862-a9ce0e197cc3",
   "metadata": {},
   "outputs": [
    {
     "data": {
      "text/html": [
       "<div>\n",
       "<style scoped>\n",
       "    .dataframe tbody tr th:only-of-type {\n",
       "        vertical-align: middle;\n",
       "    }\n",
       "\n",
       "    .dataframe tbody tr th {\n",
       "        vertical-align: top;\n",
       "    }\n",
       "\n",
       "    .dataframe thead th {\n",
       "        text-align: right;\n",
       "    }\n",
       "</style>\n",
       "<table border=\"1\" class=\"dataframe\">\n",
       "  <thead>\n",
       "    <tr style=\"text-align: right;\">\n",
       "      <th></th>\n",
       "      <th>Device</th>\n",
       "      <th>Clock frequency</th>\n",
       "      <th>UDP Throughput</th>\n",
       "      <th>Utilization of CPU</th>\n",
       "      <th>Temperature of CPU</th>\n",
       "    </tr>\n",
       "  </thead>\n",
       "  <tbody>\n",
       "    <tr>\n",
       "      <th>count</th>\n",
       "      <td>11.000000</td>\n",
       "      <td>11.000000</td>\n",
       "      <td>11.000000</td>\n",
       "      <td>11.000000</td>\n",
       "      <td>11.000000</td>\n",
       "    </tr>\n",
       "    <tr>\n",
       "      <th>mean</th>\n",
       "      <td>1.636364</td>\n",
       "      <td>2045.454545</td>\n",
       "      <td>736.363636</td>\n",
       "      <td>49.090909</td>\n",
       "      <td>42.727273</td>\n",
       "    </tr>\n",
       "    <tr>\n",
       "      <th>std</th>\n",
       "      <td>0.674200</td>\n",
       "      <td>550.206573</td>\n",
       "      <td>116.384941</td>\n",
       "      <td>12.613124</td>\n",
       "      <td>13.616835</td>\n",
       "    </tr>\n",
       "    <tr>\n",
       "      <th>min</th>\n",
       "      <td>1.000000</td>\n",
       "      <td>1500.000000</td>\n",
       "      <td>600.000000</td>\n",
       "      <td>30.000000</td>\n",
       "      <td>28.000000</td>\n",
       "    </tr>\n",
       "    <tr>\n",
       "      <th>25%</th>\n",
       "      <td>1.000000</td>\n",
       "      <td>1500.000000</td>\n",
       "      <td>625.000000</td>\n",
       "      <td>40.000000</td>\n",
       "      <td>31.500000</td>\n",
       "    </tr>\n",
       "    <tr>\n",
       "      <th>50%</th>\n",
       "      <td>2.000000</td>\n",
       "      <td>2000.000000</td>\n",
       "      <td>750.000000</td>\n",
       "      <td>50.000000</td>\n",
       "      <td>38.000000</td>\n",
       "    </tr>\n",
       "    <tr>\n",
       "      <th>75%</th>\n",
       "      <td>2.000000</td>\n",
       "      <td>2600.000000</td>\n",
       "      <td>825.000000</td>\n",
       "      <td>57.500000</td>\n",
       "      <td>53.000000</td>\n",
       "    </tr>\n",
       "    <tr>\n",
       "      <th>max</th>\n",
       "      <td>3.000000</td>\n",
       "      <td>2600.000000</td>\n",
       "      <td>900.000000</td>\n",
       "      <td>70.000000</td>\n",
       "      <td>67.000000</td>\n",
       "    </tr>\n",
       "  </tbody>\n",
       "</table>\n",
       "</div>"
      ],
      "text/plain": [
       "          Device  Clock frequency  UDP Throughput  Utilization of CPU  \\\n",
       "count  11.000000        11.000000       11.000000           11.000000   \n",
       "mean    1.636364      2045.454545      736.363636           49.090909   \n",
       "std     0.674200       550.206573      116.384941           12.613124   \n",
       "min     1.000000      1500.000000      600.000000           30.000000   \n",
       "25%     1.000000      1500.000000      625.000000           40.000000   \n",
       "50%     2.000000      2000.000000      750.000000           50.000000   \n",
       "75%     2.000000      2600.000000      825.000000           57.500000   \n",
       "max     3.000000      2600.000000      900.000000           70.000000   \n",
       "\n",
       "       Temperature of CPU  \n",
       "count           11.000000  \n",
       "mean            42.727273  \n",
       "std             13.616835  \n",
       "min             28.000000  \n",
       "25%             31.500000  \n",
       "50%             38.000000  \n",
       "75%             53.000000  \n",
       "max             67.000000  "
      ]
     },
     "execution_count": 2,
     "metadata": {},
     "output_type": "execute_result"
    }
   ],
   "source": [
    "df2.describe()"
   ]
  },
  {
   "cell_type": "markdown",
   "id": "1201eef7-1248-463a-8fc7-9c8d2fc96233",
   "metadata": {},
   "source": [
    "Carry out a correlation analysis by heatmap:"
   ]
  },
  {
   "cell_type": "code",
   "execution_count": 3,
   "id": "5c7dc674-a487-4eab-83c9-bb7f7ec8b871",
   "metadata": {},
   "outputs": [
    {
     "data": {
      "text/plain": [
       "<AxesSubplot:>"
      ]
     },
     "execution_count": 3,
     "metadata": {},
     "output_type": "execute_result"
    },
    {
     "data": {
      "image/png": "[encoded data removed]",
      "text/plain": [
       "<Figure size 640x480 with 2 Axes>"
      ]
     },
     "metadata": {},
     "output_type": "display_data"
    }
   ],
   "source": [
    "import seaborn as sns\n",
    "sns.heatmap(df2.corr(), vmin = -1, vmax = +1, annot = True, cmap = 'coolwarm')"
   ]
  },
  {
   "cell_type": "markdown",
   "id": "6136e8cb-3b87-4570-8711-5dc02236782d",
   "metadata": {},
   "source": [
    "<p>It is seen that values of Utilization and Temperature of CPU  have a strong correlation and high reverse correlation to Clock frequency.</p>\n",
    "<p>But, the only known value is UDP Throughput, that means that's correlation is more important. From the heat map it is seen that Utilization has much stronger correlation with Throughput than Temperature.</p>\n",
    "<ul>Next step is to create equations for a system of linear regressions:\n",
    "    <li><i>u = a<sub>0</sub> + a<sub>1</sub>*x<sub>1</sub> + a<sub>2</sub>*x<sub>2</sub> + a<sub>3</sub>*t</i></li>\n",
    "    <li><i>t = a<sub>4</sub> + a<sub>5</sub>*x<sub>1</sub> + a<sub>6</sub>*x<sub>2</sub> + a<sub>7</sub>*u</i></li>\n",
    "    Where u - dependent variable of CPU Utilization, t - dependent variable of CPU Temperature, X<sub>1</sub> - independent variable of Clock frequency, X<sub>2</sub> - independent variable of UDP Throughput. \n",
    "</ul>\n",
    "\n",
    "<p> Let's compute coefficients of regression:<i> a<sub>0</sub> + a<sub>1</sub> + a<sub>2</sub>...</i></p>\n"
   ]
  },
  {
   "cell_type": "code",
   "execution_count": 4,
   "id": "f09203ab-ca50-44a9-9c5f-d81e41b0d352",
   "metadata": {},
   "outputs": [
    {
     "data": {
      "text/html": [
       "<div>\n",
       "<style scoped>\n",
       "    .dataframe tbody tr th:only-of-type {\n",
       "        vertical-align: middle;\n",
       "    }\n",
       "\n",
       "    .dataframe tbody tr th {\n",
       "        vertical-align: top;\n",
       "    }\n",
       "\n",
       "    .dataframe thead th {\n",
       "        text-align: right;\n",
       "    }\n",
       "</style>\n",
       "<table border=\"1\" class=\"dataframe\">\n",
       "  <thead>\n",
       "    <tr style=\"text-align: right;\">\n",
       "      <th></th>\n",
       "      <th>a0</th>\n",
       "    </tr>\n",
       "  </thead>\n",
       "  <tbody>\n",
       "    <tr>\n",
       "      <th>Intercept coef.</th>\n",
       "      <td>42.813023</td>\n",
       "    </tr>\n",
       "  </tbody>\n",
       "</table>\n",
       "</div>"
      ],
      "text/plain": [
       "                        a0\n",
       "Intercept coef.  42.813023"
      ]
     },
     "execution_count": 4,
     "metadata": {},
     "output_type": "execute_result"
    }
   ],
   "source": [
    "x2 = df2[['Clock frequency', 'UDP Throughput', 'Temperature of CPU']]\n",
    "y2 = df2['Utilization of CPU']\n",
    "regressor_UP = LinearRegression().fit(x2, y2)\n",
    "coeff_df2_UP = pd.DataFrame(regressor_UP.coef_, x2.columns, columns=['a1-a3'])\n",
    "Intercept_df2_UP = pd.DataFrame(regressor_UP.intercept_, ['Intercept coef.'], columns=['a0'])\n",
    "Intercept_df2_UP"
   ]
  },
  {
   "cell_type": "code",
   "execution_count": 10,
   "id": "f4b70bf3-6fdc-42db-afe9-294b4f5fd4ed",
   "metadata": {},
   "outputs": [
    {
     "data": {
      "text/html": [
       "<div>\n",
       "<style scoped>\n",
       "    .dataframe tbody tr th:only-of-type {\n",
       "        vertical-align: middle;\n",
       "    }\n",
       "\n",
       "    .dataframe tbody tr th {\n",
       "        vertical-align: top;\n",
       "    }\n",
       "\n",
       "    .dataframe thead th {\n",
       "        text-align: right;\n",
       "    }\n",
       "</style>\n",
       "<table border=\"1\" class=\"dataframe\">\n",
       "  <thead>\n",
       "    <tr style=\"text-align: right;\">\n",
       "      <th></th>\n",
       "      <th>a1-a3</th>\n",
       "    </tr>\n",
       "  </thead>\n",
       "  <tbody>\n",
       "    <tr>\n",
       "      <th>Clock frequency</th>\n",
       "      <td>-0.021342</td>\n",
       "    </tr>\n",
       "    <tr>\n",
       "      <th>UDP Throughput</th>\n",
       "      <td>0.066491</td>\n",
       "    </tr>\n",
       "    <tr>\n",
       "      <th>Temperature of CPU</th>\n",
       "      <td>0.022710</td>\n",
       "    </tr>\n",
       "  </tbody>\n",
       "</table>\n",
       "</div>"
      ],
      "text/plain": [
       "                       a1-a3\n",
       "Clock frequency    -0.021342\n",
       "UDP Throughput      0.066491\n",
       "Temperature of CPU  0.022710"
      ]
     },
     "execution_count": 10,
     "metadata": {},
     "output_type": "execute_result"
    }
   ],
   "source": [
    "coeff_df2_UP"
   ]
  },
  {
   "cell_type": "markdown",
   "id": "435cbd2e-95ff-431f-92ed-95cf8b143aad",
   "metadata": {},
   "source": [
    "Now, as coefficients have been computed it is necessary to verify our model by the determination rate R<sup>2</sup>"
   ]
  },
  {
   "cell_type": "code",
   "execution_count": 5,
   "id": "6d022c80-0a36-4af5-a13e-5687fb897074",
   "metadata": {},
   "outputs": [
    {
     "name": "stdout",
     "output_type": "stream",
     "text": [
      "0.975770546770434\n"
     ]
    }
   ],
   "source": [
    "r_2_UP = regressor_UP.score(x2, y2)\n",
    "print(r_2_UP)"
   ]
  },
  {
   "cell_type": "markdown",
   "id": "8382c298-1f70-4880-a522-d67a4269e488",
   "metadata": {},
   "source": [
    "Compute coefficients of regression: <i> a<sub>4</sub> + a<sub>5</sub> + a<sub>6</sub>... </i></p>"
   ]
  },
  {
   "cell_type": "code",
   "execution_count": 7,
   "id": "ec4fff10-ae01-4389-acf4-042e032ab0fa",
   "metadata": {},
   "outputs": [
    {
     "data": {
      "text/html": [
       "<div>\n",
       "<style scoped>\n",
       "    .dataframe tbody tr th:only-of-type {\n",
       "        vertical-align: middle;\n",
       "    }\n",
       "\n",
       "    .dataframe tbody tr th {\n",
       "        vertical-align: top;\n",
       "    }\n",
       "\n",
       "    .dataframe thead th {\n",
       "        text-align: right;\n",
       "    }\n",
       "</style>\n",
       "<table border=\"1\" class=\"dataframe\">\n",
       "  <thead>\n",
       "    <tr style=\"text-align: right;\">\n",
       "      <th></th>\n",
       "      <th>a4</th>\n",
       "    </tr>\n",
       "  </thead>\n",
       "  <tbody>\n",
       "    <tr>\n",
       "      <th>Intercept coef.</th>\n",
       "      <td>48.083102</td>\n",
       "    </tr>\n",
       "  </tbody>\n",
       "</table>\n",
       "</div>"
      ],
      "text/plain": [
       "                        a4\n",
       "Intercept coef.  48.083102"
      ]
     },
     "execution_count": 7,
     "metadata": {},
     "output_type": "execute_result"
    }
   ],
   "source": [
    "x3 = df2[['Clock frequency', 'UDP Throughput', 'Utilization of CPU']]\n",
    "y3 = df2['Temperature of CPU']\n",
    "regressor_t = LinearRegression().fit(x3, y3)\n",
    "coeff_df2_t = pd.DataFrame(regressor_t.coef_, x3.columns, columns=['a5-a7'])\n",
    "Intercept_df2_t = pd.DataFrame(regressor_t.intercept_, ['Intercept coef.'], columns=['a4'])\n",
    "Intercept_df2_t"
   ]
  },
  {
   "cell_type": "code",
   "execution_count": 8,
   "id": "fd12827e-4d58-4d6c-970e-176c165e7d6c",
   "metadata": {},
   "outputs": [
    {
     "data": {
      "text/html": [
       "<div>\n",
       "<style scoped>\n",
       "    .dataframe tbody tr th:only-of-type {\n",
       "        vertical-align: middle;\n",
       "    }\n",
       "\n",
       "    .dataframe tbody tr th {\n",
       "        vertical-align: top;\n",
       "    }\n",
       "\n",
       "    .dataframe thead th {\n",
       "        text-align: right;\n",
       "    }\n",
       "</style>\n",
       "<table border=\"1\" class=\"dataframe\">\n",
       "  <thead>\n",
       "    <tr style=\"text-align: right;\">\n",
       "      <th></th>\n",
       "      <th>a5-a7</th>\n",
       "    </tr>\n",
       "  </thead>\n",
       "  <tbody>\n",
       "    <tr>\n",
       "      <th>Clock frequency</th>\n",
       "      <td>-0.015331</td>\n",
       "    </tr>\n",
       "    <tr>\n",
       "      <th>UDP Throughput</th>\n",
       "      <td>0.015494</td>\n",
       "    </tr>\n",
       "    <tr>\n",
       "      <th>Utilization of CPU</th>\n",
       "      <td>0.297276</td>\n",
       "    </tr>\n",
       "  </tbody>\n",
       "</table>\n",
       "</div>"
      ],
      "text/plain": [
       "                       a5-a7\n",
       "Clock frequency    -0.015331\n",
       "UDP Throughput      0.015494\n",
       "Utilization of CPU  0.297276"
      ]
     },
     "execution_count": 8,
     "metadata": {},
     "output_type": "execute_result"
    }
   ],
   "source": [
    "coeff_df2_t"
   ]
  },
  {
   "cell_type": "code",
   "execution_count": 9,
   "id": "b4f48cc2-8d32-4143-a64f-beb6c71a3048",
   "metadata": {},
   "outputs": [
    {
     "name": "stdout",
     "output_type": "stream",
     "text": [
      "0.7278648193590846\n"
     ]
    }
   ],
   "source": [
    "r_2_t = regressor_t.score(x3, y3)\n",
    "print(r_2_t)"
   ]
  },
  {
   "cell_type": "markdown",
   "id": "ec242caa-4fee-44df-a6e8-ee866ac73bbc",
   "metadata": {},
   "source": [
    "Having solved a system of equations and release u from dependence on t, the following system was gotten:\n",
    "<ul>\n",
    "    <li><big> $u = \\frac{a_{3}a_{4} + a_{0}+x_{1}(a_{3}a_{5} + a_{1}) + x_{2}(a_{3}a_{6} + a_{2})} {1 - a_{3}a_{7}}$</big></li>\n",
    "    <li><big> $t = a_{4} + a_{5}x_{1} + a_{6}x_{2} + a_{7}u$</big></li>\n",
    "</ul>\n",
    "<p>\n",
    " "
   ]
  },
  {
   "cell_type": "markdown",
   "id": "bd47fef2-1c1b-4abf-b389-8b9ef8f965a1",
   "metadata": {},
   "source": [
    "Set the values of independent variables:"
   ]
  },
  {
   "cell_type": "code",
   "execution_count": 10,
   "id": "74fb2424-3b23-4fe4-91fb-21c13ab012bf",
   "metadata": {},
   "outputs": [],
   "source": [
    "X1 = Clock_frequency = 1700\n",
    "throughput = []\n",
    "for i in range(50, 550, 50):\n",
    "    throughput.append(i)\n",
    "\n"
   ]
  },
  {
   "cell_type": "markdown",
   "id": "9af336ba-33df-4188-959a-7c2f015d1ca4",
   "metadata": {},
   "source": [
    "Assign for each coefficient it's value:"
   ]
  },
  {
   "cell_type": "code",
   "execution_count": 11,
   "id": "6a3d73d4-19fb-4294-8cc9-35d7a221bf69",
   "metadata": {},
   "outputs": [
    {
     "name": "stdout",
     "output_type": "stream",
     "text": [
      "42.8130231646285 -0.021342010815788896 0.06649116248627945 0.02270972852228337 48.083102493074804 -0.015330871037242235 0.01549399815327792 0.29727608494921526\n"
     ]
    }
   ],
   "source": [
    "(a0, a1, a2, a3, a4, a5, a6, a7) = (regressor_UP.intercept_, regressor_UP.coef_[0], regressor_UP.coef_[1], regressor_UP.coef_[2], regressor_t.intercept_, regressor_t.coef_[0], regressor_t.coef_[1], regressor_t.coef_[2])\n",
    "print(a0, a1, a2, a3, a4, a5, a6, a7)"
   ]
  },
  {
   "cell_type": "markdown",
   "id": "4b2d8092-14d8-458e-aa69-d2ea12103758",
   "metadata": {},
   "source": [
    "Compute a predicted Utilization:"
   ]
  },
  {
   "cell_type": "code",
   "execution_count": 12,
   "id": "11775b11-1bb0-45e0-90ec-c55bbf1680c9",
   "metadata": {},
   "outputs": [
    {
     "name": "stdout",
     "output_type": "stream",
     "text": [
      "[10.444348885544343, 13.809216655916305, 17.174084426288267, 20.53895219666023, 23.90381996703219, 27.268687737404154, 30.633555507776116, 33.99842327814808, 37.36329104852004, 40.728158818892005]\n"
     ]
    }
   ],
   "source": [
    "u_pred_UP = []\n",
    "for X2 in throughput:\n",
    "    U = (a3 * a4 + a0 + X1 * (a3 * a5 + a1) + X2 * (a3 * a6 + a2))/(1 - a3 * a7) \n",
    "    u_pred_UP.append(U)\n",
    "print(u_pred_UP)\n",
    "\n"
   ]
  },
  {
   "cell_type": "markdown",
   "id": "cae1af8b-6b60-4a00-bd0b-d8cd5507f008",
   "metadata": {},
   "source": [
    "Compute a predicted Temperature: "
   ]
  },
  {
   "cell_type": "code",
   "execution_count": 13,
   "id": "9a3da669-243c-4966-b9d3-228de3b9ab15",
   "metadata": {},
   "outputs": [
    {
     "name": "stdout",
     "output_type": "stream",
     "text": [
      "[25.90017678396522, 27.67517140877709, 29.450166033588957, 31.225160658400824, 33.00015528321269, 34.77514990802456, 36.55014453283643, 38.3251391576483, 40.10013378246016, 41.87512840727204]\n"
     ]
    }
   ],
   "source": [
    "t_pred_t = []\n",
    "for X2, U in zip(throughput, u_pred_UP):\n",
    "    t = a4 + a5 * X1 + a6 * X2 + a7 * U\n",
    "    t_pred_t.append(t)\n",
    "print(t_pred_t)"
   ]
  },
  {
   "cell_type": "markdown",
   "id": "83c245ba-682d-4020-9d97-9125c831dca9",
   "metadata": {},
   "source": [
    "Create a table:"
   ]
  },
  {
   "cell_type": "code",
   "execution_count": 14,
   "id": "221863fc-3546-4b34-a16c-b027ef6baecd",
   "metadata": {},
   "outputs": [
    {
     "data": {
      "text/html": [
       "<div>\n",
       "<style scoped>\n",
       "    .dataframe tbody tr th:only-of-type {\n",
       "        vertical-align: middle;\n",
       "    }\n",
       "\n",
       "    .dataframe tbody tr th {\n",
       "        vertical-align: top;\n",
       "    }\n",
       "\n",
       "    .dataframe thead th {\n",
       "        text-align: right;\n",
       "    }\n",
       "</style>\n",
       "<table border=\"1\" class=\"dataframe\">\n",
       "  <thead>\n",
       "    <tr style=\"text-align: right;\">\n",
       "      <th></th>\n",
       "      <th>Clock frequency</th>\n",
       "      <th>UDP Throughput</th>\n",
       "      <th>Utilization of CPU</th>\n",
       "      <th>Temperature of CPU</th>\n",
       "    </tr>\n",
       "  </thead>\n",
       "  <tbody>\n",
       "    <tr>\n",
       "      <th>0</th>\n",
       "      <td>1700</td>\n",
       "      <td>50</td>\n",
       "      <td>10</td>\n",
       "      <td>26</td>\n",
       "    </tr>\n",
       "    <tr>\n",
       "      <th>1</th>\n",
       "      <td>1700</td>\n",
       "      <td>100</td>\n",
       "      <td>14</td>\n",
       "      <td>28</td>\n",
       "    </tr>\n",
       "    <tr>\n",
       "      <th>2</th>\n",
       "      <td>1700</td>\n",
       "      <td>150</td>\n",
       "      <td>17</td>\n",
       "      <td>29</td>\n",
       "    </tr>\n",
       "    <tr>\n",
       "      <th>3</th>\n",
       "      <td>1700</td>\n",
       "      <td>200</td>\n",
       "      <td>21</td>\n",
       "      <td>31</td>\n",
       "    </tr>\n",
       "    <tr>\n",
       "      <th>4</th>\n",
       "      <td>1700</td>\n",
       "      <td>250</td>\n",
       "      <td>24</td>\n",
       "      <td>33</td>\n",
       "    </tr>\n",
       "    <tr>\n",
       "      <th>5</th>\n",
       "      <td>1700</td>\n",
       "      <td>300</td>\n",
       "      <td>27</td>\n",
       "      <td>35</td>\n",
       "    </tr>\n",
       "    <tr>\n",
       "      <th>6</th>\n",
       "      <td>1700</td>\n",
       "      <td>350</td>\n",
       "      <td>31</td>\n",
       "      <td>37</td>\n",
       "    </tr>\n",
       "    <tr>\n",
       "      <th>7</th>\n",
       "      <td>1700</td>\n",
       "      <td>400</td>\n",
       "      <td>34</td>\n",
       "      <td>38</td>\n",
       "    </tr>\n",
       "    <tr>\n",
       "      <th>8</th>\n",
       "      <td>1700</td>\n",
       "      <td>450</td>\n",
       "      <td>37</td>\n",
       "      <td>40</td>\n",
       "    </tr>\n",
       "    <tr>\n",
       "      <th>9</th>\n",
       "      <td>1700</td>\n",
       "      <td>500</td>\n",
       "      <td>41</td>\n",
       "      <td>42</td>\n",
       "    </tr>\n",
       "  </tbody>\n",
       "</table>\n",
       "</div>"
      ],
      "text/plain": [
       "   Clock frequency  UDP Throughput  Utilization of CPU  Temperature of CPU\n",
       "0             1700              50                  10                  26\n",
       "1             1700             100                  14                  28\n",
       "2             1700             150                  17                  29\n",
       "3             1700             200                  21                  31\n",
       "4             1700             250                  24                  33\n",
       "5             1700             300                  27                  35\n",
       "6             1700             350                  31                  37\n",
       "7             1700             400                  34                  38\n",
       "8             1700             450                  37                  40\n",
       "9             1700             500                  41                  42"
      ]
     },
     "execution_count": 14,
     "metadata": {},
     "output_type": "execute_result"
    }
   ],
   "source": [
    "dic = {'Clock frequency': 1700, 'UDP Throughput' : throughput, 'Utilization of CPU' : [int(u) for u in np.round(u_pred_UP)], 'Temperature of CPU' : [int(t) for t in np.round(t_pred_t)]}\n",
    "df3 = pd.DataFrame(dic)\n",
    "df3"
   ]
  },
  {
   "cell_type": "markdown",
   "id": "7c976a86-36ab-4151-b6b0-67ef1dd8501b",
   "metadata": {},
   "source": [
    "<p><strong>Results:</strong> The table with predicted values of Utilization and Temperature of CPU is created.</p>"
   ]
  }
 ],
 "metadata": {
  "kernelspec": {
   "display_name": "Python 3 (ipykernel)",
   "language": "python",
   "name": "python3"
  },
  "language_info": {
   "codemirror_mode": {
    "name": "ipython",
    "version": 3
   },
   "file_extension": ".py",
   "mimetype": "text/x-python",
   "name": "python",
   "nbconvert_exporter": "python",
   "pygments_lexer": "ipython3",
   "version": "3.9.13"
  }
 },
 "nbformat": 4,
 "nbformat_minor": 5
}
